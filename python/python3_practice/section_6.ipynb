{
 "nbformat": 4,
 "nbformat_minor": 2,
 "metadata": {
  "language_info": {
   "name": "python",
   "codemirror_mode": {
    "name": "ipython",
    "version": 3
   },
   "version": "3.8.2-final"
  },
  "orig_nbformat": 2,
  "file_extension": ".py",
  "mimetype": "text/x-python",
  "name": "python",
  "npconvert_exporter": "python",
  "pygments_lexer": "ipython3",
  "version": 3,
  "kernelspec": {
   "name": "python38264bit1e12645129524e4e9e8f200113f0d301",
   "display_name": "Python 3.8.2 64-bit"
  }
 },
 "cells": [
  {
   "cell_type": "code",
   "execution_count": 3,
   "metadata": {},
   "outputs": [],
   "source": [
    "#class Page:\n",
    "#    def __init__(self, num, content):\n",
    "#        self.num = num\n",
    "#        self.content = content\n",
    "#    def output(self):\n",
    "#        return f'{self.content}'"
   ]
  },
  {
   "cell_type": "code",
   "execution_count": 4,
   "metadata": {},
   "outputs": [],
   "source": [
    "#print(Page)\n",
    "\n",
    "#title_page = Page(0, 'Python practice Book')\n",
    "#type(title_page)\n",
    "\n",
    ""
   ]
  },
  {
   "cell_type": "code",
   "execution_count": 5,
   "metadata": {},
   "outputs": [
    {
     "output_type": "error",
     "ename": "NameError",
     "evalue": "name 'title_page' is not defined",
     "traceback": [
      "\u001b[1;31m---------------------------------------------------------------------------\u001b[0m",
      "\u001b[1;31mNameError\u001b[0m                                 Traceback (most recent call last)",
      "\u001b[1;32m<ipython-input-5-71901a422e10>\u001b[0m in \u001b[0;36m<module>\u001b[1;34m\u001b[0m\n\u001b[1;32m----> 1\u001b[1;33m \u001b[0mprint\u001b[0m\u001b[1;33m(\u001b[0m\u001b[0misinstance\u001b[0m\u001b[1;33m(\u001b[0m\u001b[0mtitle_page\u001b[0m\u001b[1;33m,\u001b[0m \u001b[0mPage\u001b[0m\u001b[1;33m)\u001b[0m\u001b[1;33m)\u001b[0m\u001b[1;33m\u001b[0m\u001b[1;33m\u001b[0m\u001b[0m\n\u001b[0m\u001b[0;32m      2\u001b[0m \u001b[0mdir\u001b[0m\u001b[1;33m(\u001b[0m\u001b[0mtitle_page\u001b[0m\u001b[1;33m)\u001b[0m\u001b[1;33m\u001b[0m\u001b[1;33m\u001b[0m\u001b[0m\n",
      "\u001b[1;31mNameError\u001b[0m: name 'title_page' is not defined"
     ]
    }
   ],
   "source": [
    "print(isinstance(title_page, Page))\n",
    "dir(title_page)\n",
    ""
   ]
  },
  {
   "cell_type": "code",
   "execution_count": 6,
   "metadata": {},
   "outputs": [
    {
     "output_type": "error",
     "ename": "NameError",
     "evalue": "name 'title_page' is not defined",
     "traceback": [
      "\u001b[1;31m---------------------------------------------------------------------------\u001b[0m",
      "\u001b[1;31mNameError\u001b[0m                                 Traceback (most recent call last)",
      "\u001b[1;32m<ipython-input-6-4c1c5984cb4b>\u001b[0m in \u001b[0;36m<module>\u001b[1;34m\u001b[0m\n\u001b[1;32m----> 1\u001b[1;33m \u001b[0mtitle_page\u001b[0m\u001b[1;33m.\u001b[0m\u001b[0moutput\u001b[0m\u001b[1;33m(\u001b[0m\u001b[1;33m)\u001b[0m\u001b[1;33m\u001b[0m\u001b[1;33m\u001b[0m\u001b[0m\n\u001b[0m",
      "\u001b[1;31mNameError\u001b[0m: name 'title_page' is not defined"
     ]
    }
   ],
   "source": [
    "title_page.output()"
   ]
  },
  {
   "cell_type": "code",
   "execution_count": 7,
   "metadata": {},
   "outputs": [
    {
     "output_type": "stream",
     "name": "stdout",
     "text": "<class 'function'>\n"
    }
   ],
   "source": [
    "class Klass:\n",
    "    def some_method(self):\n",
    "        print('method')\n",
    "    def some_function(self):\n",
    "        print('function')\n",
    "print(type(Klass.some_function))"
   ]
  },
  {
   "cell_type": "code",
   "execution_count": 8,
   "metadata": {},
   "outputs": [
    {
     "output_type": "stream",
     "name": "stdout",
     "text": "<class '__main__.Klass'>\n"
    }
   ],
   "source": [
    "klass = Klass()\n",
    "print(type(klass))\n",
    "\n",
    ""
   ]
  },
  {
   "cell_type": "code",
   "execution_count": 9,
   "metadata": {},
   "outputs": [
    {
     "output_type": "stream",
     "name": "stdout",
     "text": "klass.some_method()\nmethod\n<class 'NoneType'>\nklass.some_method\n<class 'method'>\n<bound method Klass.some_method of <__main__.Klass object at 0x000002B6FADFEBB0>>\n"
    }
   ],
   "source": [
    "print('klass.some_method()')\n",
    "print(type(klass.some_method()))\n",
    "print('klass.some_method')\n",
    "print(type(klass.some_method))\n",
    "#klass.some_method\n",
    "print(klass.some_method)"
   ]
  },
  {
   "cell_type": "code",
   "execution_count": 10,
   "metadata": {},
   "outputs": [
    {
     "output_type": "stream",
     "name": "stdout",
     "text": "cls=<class '__main__.Klass'>\nnew (1, 2, 3)\ninit (1, 2, 3)\n"
    }
   ],
   "source": [
    "class Klass:\n",
    "    def __new__(cls, *args):\n",
    "        print(f'{cls=}')\n",
    "        print('new', args)\n",
    "        return super().__new__(cls)\n",
    "    def __init__(self, *args):\n",
    "        print('init', args)\n",
    "kls = Klass(1, 2, 3)"
   ]
  },
  {
   "cell_type": "code",
   "execution_count": 11,
   "metadata": {},
   "outputs": [
    {
     "output_type": "stream",
     "name": "stdout",
     "text": "cls=<class '__main__.Evil'>\n"
    },
    {
     "output_type": "execute_result",
     "data": {
      "text/plain": "int"
     },
     "metadata": {},
     "execution_count": 11
    }
   ],
   "source": [
    "class Evil:\n",
    "    def __new__(cls, *args):\n",
    "        print(f'{cls=}')\n",
    "        return 1\n",
    "\n",
    "evil = Evil()\n",
    "isinstance(evil, Evil)\n",
    "type(evil)"
   ]
  },
  {
   "cell_type": "code",
   "execution_count": 12,
   "metadata": {},
   "outputs": [
    {
     "output_type": "stream",
     "name": "stdout",
     "text": "cls=<class '__main__.MyClass'>\n"
    },
    {
     "output_type": "error",
     "ename": "AttributeError",
     "evalue": "'int' object has no attribute 'print_class'",
     "traceback": [
      "\u001b[1;31m---------------------------------------------------------------------------\u001b[0m",
      "\u001b[1;31mAttributeError\u001b[0m                            Traceback (most recent call last)",
      "\u001b[1;32m<ipython-input-12-19eb05551865>\u001b[0m in \u001b[0;36m<module>\u001b[1;34m\u001b[0m\n\u001b[0;32m      3\u001b[0m         \u001b[0mprint\u001b[0m\u001b[1;33m(\u001b[0m\u001b[1;34m'MyClass'\u001b[0m\u001b[1;33m)\u001b[0m\u001b[1;33m\u001b[0m\u001b[1;33m\u001b[0m\u001b[0m\n\u001b[0;32m      4\u001b[0m \u001b[0mmy\u001b[0m \u001b[1;33m=\u001b[0m \u001b[0mMyClass\u001b[0m\u001b[1;33m(\u001b[0m\u001b[1;33m)\u001b[0m\u001b[1;33m\u001b[0m\u001b[1;33m\u001b[0m\u001b[0m\n\u001b[1;32m----> 5\u001b[1;33m \u001b[0mmy\u001b[0m\u001b[1;33m.\u001b[0m\u001b[0mprint_class\u001b[0m\u001b[1;33m(\u001b[0m\u001b[1;33m)\u001b[0m\u001b[1;33m\u001b[0m\u001b[1;33m\u001b[0m\u001b[0m\n\u001b[0m",
      "\u001b[1;31mAttributeError\u001b[0m: 'int' object has no attribute 'print_class'"
     ]
    }
   ],
   "source": [
    "class MyClass(Evil):\n",
    "    def print_class():\n",
    "        print('MyClass')\n",
    "my = MyClass()\n",
    "my.print_class()"
   ]
  },
  {
   "cell_type": "code",
   "execution_count": 13,
   "metadata": {},
   "outputs": [],
   "source": [
    "class Book:\n",
    "    def __init__(self, raw_price):\n",
    "        if raw_price < 0:\n",
    "            ValueError('price must be positive')\n",
    "        self.raw_price = raw_price\n",
    "        self._discounts = 0\n",
    "    @property\n",
    "    def discounts(self):\n",
    "        return self._discounts\n",
    "    @discounts.setter\n",
    "    def discounts(self, value):\n",
    "        if value < 0 or 100 < value:\n",
    "            raise ValueError(\n",
    "                'discounts must be between 0 and 100')\n",
    "        self._discounts = value\n",
    "    @property\n",
    "    def price(self):\n",
    "        multi = 100 - self._discounts\n",
    "        return int(self.raw_price * multi / 100)"
   ]
  },
  {
   "cell_type": "code",
   "execution_count": 14,
   "metadata": {},
   "outputs": [
    {
     "output_type": "execute_result",
     "data": {
      "text/plain": "0"
     },
     "metadata": {},
     "execution_count": 14
    }
   ],
   "source": [
    "book = Book(2000)\n",
    "book.discounts  # 初期は値引率0"
   ]
  },
  {
   "cell_type": "markdown",
   "metadata": {},
   "source": [
    "### Class Variable"
   ]
  },
  {
   "cell_type": "code",
   "execution_count": null,
   "metadata": {},
   "outputs": [],
   "source": []
  },
  {
   "cell_type": "code",
   "execution_count": 15,
   "metadata": {},
   "outputs": [
    {
     "output_type": "execute_result",
     "data": {
      "text/plain": "'Python Practice Book'"
     },
     "metadata": {},
     "execution_count": 15
    }
   ],
   "source": [
    "class Page:\n",
    "    def __init__(self, num, content):\n",
    "        self.num = num\n",
    "        self.content = content\n",
    "    @staticmethod\n",
    "    def check_blank(page):\n",
    "        return bool(page.content)\n",
    "\n",
    "#page = Page(1, '')\n",
    "#print(Page.check_blank(page))\n",
    "class Page:\n",
    "    book_title = 'Python Practice Book'\n",
    "\n",
    "Page.book_title"
   ]
  },
  {
   "cell_type": "code",
   "execution_count": 16,
   "metadata": {},
   "outputs": [],
   "source": [
    "Page.book_title = 'No title'\n",
    "\n",
    "first_page = Page()\n",
    "second_page = Page()"
   ]
  },
  {
   "cell_type": "code",
   "execution_count": 17,
   "metadata": {},
   "outputs": [
    {
     "output_type": "execute_result",
     "data": {
      "text/plain": "'No title'"
     },
     "metadata": {},
     "execution_count": 17
    }
   ],
   "source": [
    "first_page.book_title\n",
    ""
   ]
  },
  {
   "cell_type": "code",
   "execution_count": 18,
   "metadata": {},
   "outputs": [
    {
     "output_type": "execute_result",
     "data": {
      "text/plain": "'apple'"
     },
     "metadata": {},
     "execution_count": 18
    }
   ],
   "source": [
    "first_page.book_title = 'apple'\n",
    "first_page.book_title"
   ]
  },
  {
   "cell_type": "code",
   "execution_count": 19,
   "metadata": {},
   "outputs": [
    {
     "output_type": "execute_result",
     "data": {
      "text/plain": "'No title'"
     },
     "metadata": {},
     "execution_count": 19
    }
   ],
   "source": [
    "second_page.book_title"
   ]
  },
  {
   "cell_type": "code",
   "execution_count": 20,
   "metadata": {},
   "outputs": [
    {
     "output_type": "execute_result",
     "data": {
      "text/plain": "'orange'"
     },
     "metadata": {},
     "execution_count": 20
    }
   ],
   "source": [
    "second_page.book_title = 'orange'\n",
    "second_page.book_title"
   ]
  },
  {
   "cell_type": "code",
   "execution_count": 21,
   "metadata": {},
   "outputs": [
    {
     "output_type": "execute_result",
     "data": {
      "text/plain": "'No title'"
     },
     "metadata": {},
     "execution_count": 21
    }
   ],
   "source": [
    "Page.book_title"
   ]
  },
  {
   "cell_type": "code",
   "execution_count": 22,
   "metadata": {},
   "outputs": [
    {
     "output_type": "execute_result",
     "data": {
      "text/plain": "'No title'"
     },
     "metadata": {},
     "execution_count": 22
    }
   ],
   "source": [
    "del first_page.book_title\n",
    "first_page.book_title"
   ]
  },
  {
   "cell_type": "markdown",
   "metadata": {},
   "source": [
    "### Class Method"
   ]
  },
  {
   "cell_type": "code",
   "execution_count": 23,
   "metadata": {},
   "outputs": [],
   "source": [
    "from operator import attrgetter\n",
    "class Page:\n",
    "    book_title = 'Python Practice Book'\n",
    "    def __init__(self, num, content):\n",
    "        self.num = num\n",
    "        self.content = content\n",
    "    def output(self):\n",
    "        return f'{self.content}'\n",
    "    @classmethod\n",
    "    def print_pages(cls, *pages):\n",
    "        # use class object\n",
    "        print(cls.book_title)\n",
    "        pages = list(pages)\n",
    "        for page in sorted(pages, key=attrgetter('num')):\n",
    "            print(page.num, page.output())\n",
    ""
   ]
  },
  {
   "cell_type": "code",
   "execution_count": 24,
   "metadata": {},
   "outputs": [],
   "source": [
    "first = Page(1, 'first page')\n",
    "second = Page(2, 'second page')\n",
    "third = Page(3, 'third page')\n",
    ""
   ]
  },
  {
   "cell_type": "code",
   "execution_count": 25,
   "metadata": {},
   "outputs": [
    {
     "output_type": "stream",
     "name": "stdout",
     "text": "Python Practice Book\n1 first page\n2 second page\n3 third page\n"
    }
   ],
   "source": [
    "Page.print_pages(first, second, third)"
   ]
  },
  {
   "cell_type": "code",
   "execution_count": 26,
   "metadata": {},
   "outputs": [
    {
     "output_type": "stream",
     "name": "stdout",
     "text": "Python Practice Book\n1 first page\n2 second page\n3 third page\n"
    }
   ],
   "source": [
    "first.print_pages(first,second, third)"
   ]
  },
  {
   "cell_type": "code",
   "execution_count": 27,
   "metadata": {},
   "outputs": [
    {
     "output_type": "execute_result",
     "data": {
      "text/plain": "False"
     },
     "metadata": {},
     "execution_count": 27
    }
   ],
   "source": [
    "class Page:\n",
    "    def __init__(self, num, content):\n",
    "        self.num = num\n",
    "        self.content = content\n",
    "    @staticmethod\n",
    "    def check_blank(page):\n",
    "        return bool(page.content)\n",
    "page = Page(1, '')\n",
    "Page.check_blank(page)\n",
    ""
   ]
  },
  {
   "cell_type": "code",
   "execution_count": 28,
   "metadata": {},
   "outputs": [
    {
     "output_type": "execute_result",
     "data": {
      "text/plain": "'PYTHON PRACTICE BOOK'"
     },
     "metadata": {},
     "execution_count": 28
    }
   ],
   "source": [
    "class Page:\n",
    "    def __init__(self, num, content):\n",
    "        self.num = num\n",
    "        self.content = content\n",
    "    def output(self):\n",
    "        return f'{self.content}'\n",
    "\n",
    "class TitlePage(Page):\n",
    "    def output(self):\n",
    "        title = super().output()\n",
    "        return title.upper()\n",
    "\n",
    "my_title = TitlePage(0, 'Python Practice Book')\n",
    "my_title.output()\n",
    ""
   ]
  },
  {
   "cell_type": "code",
   "execution_count": 29,
   "metadata": {},
   "outputs": [
    {
     "output_type": "stream",
     "name": "stdout",
     "text": "16.0cm\n"
    }
   ],
   "source": [
    "class Length(float):\n",
    "    def to_cm(self):\n",
    "        return super().__str__() + 'cm'\n",
    "pencil_length = Length(16)\n",
    "print(pencil_length.to_cm())"
   ]
  },
  {
   "cell_type": "code",
   "execution_count": 30,
   "metadata": {},
   "outputs": [
    {
     "output_type": "execute_result",
     "data": {
      "text/plain": "'<html><body>my first web contents</body></html>'"
     },
     "metadata": {},
     "execution_count": 30
    }
   ],
   "source": [
    "class HTMLPageMixin:\n",
    "    def to_html(self):\n",
    "        return f'<html><body>{self.output()}</body></html>'\n",
    "\n",
    "class WebPage(Page, HTMLPageMixin):\n",
    "    pass\n",
    "\n",
    "page = WebPage(0, 'my first web contents')\n",
    "page.to_html()\n",
    ""
   ]
  },
  {
   "cell_type": "code",
   "execution_count": 32,
   "metadata": {},
   "outputs": [
    {
     "output_type": "stream",
     "name": "stdout",
     "text": "Yahoo!\nHola\nKonnichiwa\nHello\n"
    }
   ],
   "source": [
    "class A:\n",
    "    def hello(self):\n",
    "        print('Hello')\n",
    "class B(A):\n",
    "    def hello(self):\n",
    "        print('Hola')\n",
    "        super().hello()\n",
    "class C(A):\n",
    "    def hello(self):\n",
    "        print('Konnichiwa')\n",
    "        super().hello()\n",
    "class D(B,C):\n",
    "    def hello(self):\n",
    "        print('Yahoo!')\n",
    "        super().hello()\n",
    "b = D()\n",
    "b.hello()    "
   ]
  },
  {
   "cell_type": "code",
   "execution_count": 33,
   "metadata": {},
   "outputs": [
    {
     "output_type": "execute_result",
     "data": {
      "text/plain": "(__main__.D, __main__.B, __main__.C, __main__.A, object)"
     },
     "metadata": {},
     "execution_count": 33
    }
   ],
   "source": [
    "D.__mro__"
   ]
  },
  {
   "cell_type": "code",
   "execution_count": null,
   "metadata": {},
   "outputs": [],
   "source": []
  }
 ]
}