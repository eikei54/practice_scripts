{
 "nbformat": 4,
 "nbformat_minor": 2,
 "metadata": {
  "language_info": {
   "name": "python",
   "codemirror_mode": {
    "name": "ipython",
    "version": 3
   },
   "version": "3.8.2-final"
  },
  "orig_nbformat": 2,
  "file_extension": ".py",
  "mimetype": "text/x-python",
  "name": "python",
  "npconvert_exporter": "python",
  "pygments_lexer": "ipython3",
  "version": 3,
  "kernelspec": {
   "name": "python38264bit1e12645129524e4e9e8f200113f0d301",
   "display_name": "Python 3.8.2 64-bit"
  }
 },
 "cells": [
  {
   "cell_type": "markdown",
   "metadata": {},
   "source": [
    "###  Klass"
   ]
  },
  {
   "cell_type": "code",
   "execution_count": 5,
   "metadata": {},
   "outputs": [
    {
     "output_type": "stream",
     "name": "stdout",
     "text": "cls=<class '__main__.Klass'>\nnew (1, 2, 3)\ninit (1, 2, 3)\n"
    }
   ],
   "source": [
    "class Klass:\n",
    "    def __new__(cls, *args):  # コンストラクタ\n",
    "        print(f'{cls=}')\n",
    "        print('new', args)\n",
    "        # 作成したインスタンスを返す\n",
    "        return super().__new__(cls)\n",
    "    def __init__(self, *args):\n",
    "        # インスタンスの初期化はこちらで行う\n",
    "        print('init', args)\n",
    "\n",
    "kls = Klass(1, 2, 3)"
   ]
  },
  {
   "cell_type": "code",
   "execution_count": 6,
   "metadata": {},
   "outputs": [],
   "source": [
    "class Klass:\n",
    "    def __init__(self, x):\n",
    "        self.__x = x\n",
    ""
   ]
  },
  {
   "cell_type": "code",
   "execution_count": 8,
   "metadata": {},
   "outputs": [
    {
     "output_type": "execute_result",
     "data": {
      "text/plain": "10"
     },
     "metadata": {},
     "execution_count": 8
    }
   ],
   "source": [
    "kls = Klass(10)\n",
    "kls._Klass__x"
   ]
  },
  {
   "cell_type": "code",
   "execution_count": 11,
   "metadata": {},
   "outputs": [
    {
     "output_type": "stream",
     "name": "stdout",
     "text": "False\n"
    }
   ],
   "source": [
    "class Page:\n",
    "    def __init__(self, num, content):\n",
    "        self.num = num\n",
    "        self.content = content\n",
    "    @staticmethod\n",
    "    def check_blank(page):\n",
    "        return bool(page.content)\n",
    "\n",
    "page = Page(1, '')\n",
    "print(Page.check_blank(page))\n",
    ""
   ]
  },
  {
   "cell_type": "code",
   "execution_count": null,
   "metadata": {},
   "outputs": [],
   "source": []
  }
 ]
}