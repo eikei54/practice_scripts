{
 "nbformat": 4,
 "nbformat_minor": 2,
 "metadata": {
  "language_info": {
   "name": "python",
   "codemirror_mode": {
    "name": "ipython",
    "version": 3
   },
   "version": "3.8.2-final"
  },
  "orig_nbformat": 2,
  "file_extension": ".py",
  "mimetype": "text/x-python",
  "name": "python",
  "npconvert_exporter": "python",
  "pygments_lexer": "ipython3",
  "version": 3,
  "kernelspec": {
   "name": "python38264bit1e12645129524e4e9e8f200113f0d301",
   "display_name": "Python 3.8.2 64-bit"
  }
 },
 "cells": [
  {
   "cell_type": "code",
   "execution_count": 2,
   "metadata": {},
   "outputs": [
    {
     "output_type": "stream",
     "name": "stdout",
     "text": "<class 'module'>\n['__builtins__', '__cached__', '__doc__', '__file__', '__loader__', '__name__', '__package__', '__spec__', 'base64', 'str_to_base64', 'sys', 'target']\n"
    }
   ],
   "source": [
    "import encoder\n",
    "\n",
    "print(type(encoder))\n",
    "print(dir(encoder))"
   ]
  },
  {
   "cell_type": "code",
   "execution_count": 3,
   "metadata": {},
   "outputs": [
    {
     "output_type": "execute_result",
     "data": {
      "text/plain": "b'cHl0aG9u'"
     },
     "metadata": {},
     "execution_count": 3
    }
   ],
   "source": [
    "encoder.str_to_base64('python')"
   ]
  },
  {
   "cell_type": "code",
   "execution_count": 6,
   "metadata": {},
   "outputs": [
    {
     "output_type": "stream",
     "name": "stdout",
     "text": "b'LWY='\n"
    }
   ],
   "source": [
    "import encoder_nc"
   ]
  },
  {
   "cell_type": "code",
   "execution_count": 11,
   "metadata": {},
   "outputs": [
    {
     "output_type": "execute_result",
     "data": {
      "text/plain": "'python'"
     },
     "metadata": {},
     "execution_count": 11
    }
   ],
   "source": [
    "from b64 import encoder, decoder\n",
    "\n",
    "encoder.str_to_base64('python')"
   ]
  },
  {
   "cell_type": "code",
   "execution_count": 12,
   "metadata": {},
   "outputs": [
    {
     "output_type": "execute_result",
     "data": {
      "text/plain": "'python'"
     },
     "metadata": {},
     "execution_count": 12
    }
   ],
   "source": [
    "decoder.base64_to_str(b'cHl0aG9u')"
   ]
  },
  {
   "cell_type": "code",
   "execution_count": null,
   "metadata": {},
   "outputs": [],
   "source": [
    "from b64 import str_to_base64\n",
    "\n",
    "str_to_base64('python')"
   ]
  },
  {
   "cell_type": "code",
   "execution_count": 2,
   "metadata": {},
   "outputs": [
    {
     "output_type": "stream",
     "name": "stdout",
     "text": "f_function\ng_function\n"
    },
    {
     "output_type": "error",
     "ename": "NameError",
     "evalue": "name 'value' is not defined",
     "traceback": [
      "\u001b[1;31m---------------------------------------------------------------------------\u001b[0m",
      "\u001b[1;31mNameError\u001b[0m                                 Traceback (most recent call last)",
      "\u001b[1;32m<ipython-input-2-968cd267e2ce>\u001b[0m in \u001b[0;36m<module>\u001b[1;34m\u001b[0m\n\u001b[0;32m     10\u001b[0m \u001b[0mg\u001b[0m\u001b[1;33m(\u001b[0m\u001b[1;33m)\u001b[0m\u001b[1;33m\u001b[0m\u001b[1;33m\u001b[0m\u001b[0m\n\u001b[0;32m     11\u001b[0m \u001b[1;33m\u001b[0m\u001b[0m\n\u001b[1;32m---> 12\u001b[1;33m \u001b[0mprint\u001b[0m\u001b[1;33m(\u001b[0m\u001b[0mvalue\u001b[0m\u001b[1;33m)\u001b[0m\u001b[1;33m\u001b[0m\u001b[1;33m\u001b[0m\u001b[0m\n\u001b[0m",
      "\u001b[1;31mNameError\u001b[0m: name 'value' is not defined"
     ]
    }
   ],
   "source": [
    "def f():\n",
    "    value = 'f_function'\n",
    "    print(value)\n",
    "\n",
    "def g():\n",
    "    value = 'g_function'\n",
    "    print(value)\n",
    "\n",
    "f()\n",
    "g()\n",
    "\n",
    "print(value)"
   ]
  },
  {
   "cell_type": "code",
   "execution_count": 3,
   "metadata": {},
   "outputs": [
    {
     "output_type": "execute_result",
     "data": {
      "text/plain": "[0, 1, 2]"
     },
     "metadata": {},
     "execution_count": 3
    }
   ],
   "source": [
    "[value for value in range(3)]"
   ]
  },
  {
   "cell_type": "code",
   "execution_count": 4,
   "metadata": {},
   "outputs": [
    {
     "output_type": "error",
     "ename": "NameError",
     "evalue": "name 'value' is not defined",
     "traceback": [
      "\u001b[1;31m---------------------------------------------------------------------------\u001b[0m",
      "\u001b[1;31mNameError\u001b[0m                                 Traceback (most recent call last)",
      "\u001b[1;32m<ipython-input-4-a458d288e6eb>\u001b[0m in \u001b[0;36m<module>\u001b[1;34m\u001b[0m\n\u001b[1;32m----> 1\u001b[1;33m \u001b[0mprint\u001b[0m\u001b[1;33m(\u001b[0m\u001b[0mvalue\u001b[0m\u001b[1;33m)\u001b[0m\u001b[1;33m\u001b[0m\u001b[1;33m\u001b[0m\u001b[0m\n\u001b[0m",
      "\u001b[1;31mNameError\u001b[0m: name 'value' is not defined"
     ]
    }
   ],
   "source": [
    "print(value)"
   ]
  },
  {
   "cell_type": "code",
   "execution_count": 5,
   "metadata": {},
   "outputs": [
    {
     "output_type": "stream",
     "name": "stdout",
     "text": "{'__name__': '__main__', '__doc__': 'Automatically created module for IPython interactive environment', '__package__': None, '__loader__': None, '__spec__': None, '__builtin__': <module 'builtins' (built-in)>, '__builtins__': <module 'builtins' (built-in)>, '_ih': ['', \"def f():\\n    value = 'f_function'\\n    print(value)\\n\\ndef g():\\n    value = 'g_function'\\n    print(value)\\n\\nf()\\ng()\", \"def f():\\n    value = 'f_function'\\n    print(value)\\n\\ndef g():\\n    value = 'g_function'\\n    print(value)\\n\\nf()\\ng()\\n\\nprint(value)\", '[value for value in range(3)]', 'print(value)', 'print(locals())'], '_oh': {3: [0, 1, 2]}, '_dh': ['C:\\\\Users\\\\Akihirok\\\\AppData\\\\Local\\\\Temp\\\\5cc41a87-b24b-49e2-abf9-09a48dec7f56', 'd:\\\\work\\\\python_practice\\\\python\\\\python3_practice\\\\7_module'], 'In': ['', \"def f():\\n    value = 'f_function'\\n    print(value)\\n\\ndef g():\\n    value = 'g_function'\\n    print(value)\\n\\nf()\\ng()\", \"def f():\\n    value = 'f_function'\\n    print(value)\\n\\ndef g():\\n    value = 'g_function'\\n    print(value)\\n\\nf()\\ng()\\n\\nprint(value)\", '[value for value in range(3)]', 'print(value)', 'print(locals())'], 'Out': {3: [0, 1, 2]}, 'get_ipython': <bound method InteractiveShell.get_ipython of <ipykernel.zmqshell.ZMQInteractiveShell object at 0x0000023E14EE5910>>, 'exit': <IPython.core.autocall.ZMQExitAutocall object at 0x0000023E14F20670>, 'quit': <IPython.core.autocall.ZMQExitAutocall object at 0x0000023E14F20670>, '_': [0, 1, 2], '__': '', '___': '', 'os': <module 'os' from 'D:\\\\Users\\\\Akihirok\\\\AppData\\\\Local\\\\Programs\\\\Python\\\\Python38\\\\lib\\\\os.py'>, 'sys': <module 'sys' (built-in)>, '_i': 'print(value)', '_ii': '[value for value in range(3)]', '_iii': \"def f():\\n    value = 'f_function'\\n    print(value)\\n\\ndef g():\\n    value = 'g_function'\\n    print(value)\\n\\nf()\\ng()\\n\\nprint(value)\", '_i1': \"def f():\\n    value = 'f_function'\\n    print(value)\\n\\ndef g():\\n    value = 'g_function'\\n    print(value)\\n\\nf()\\ng()\", 'f': <function f at 0x0000023E1694E0D0>, 'g': <function g at 0x0000023E1694E160>, '_i2': \"def f():\\n    value = 'f_function'\\n    print(value)\\n\\ndef g():\\n    value = 'g_function'\\n    print(value)\\n\\nf()\\ng()\\n\\nprint(value)\", '_i3': '[value for value in range(3)]', '_3': [0, 1, 2], '_i4': 'print(value)', '_i5': 'print(locals())'}\n"
    }
   ],
   "source": [
    "print(locals())"
   ]
  },
  {
   "cell_type": "code",
   "execution_count": 8,
   "metadata": {},
   "outputs": [
    {
     "output_type": "stream",
     "name": "stdout",
     "text": "{'x': 'pyhon'}\n{'x': 'pyhon', 'value': 'book'}\n"
    }
   ],
   "source": [
    "def f(x):\n",
    "    print(locals())\n",
    "    value = 'book'\n",
    "    print(locals())\n",
    "\n",
    "f('pyhon')"
   ]
  },
  {
   "cell_type": "code",
   "execution_count": 9,
   "metadata": {},
   "outputs": [
    {
     "output_type": "stream",
     "name": "stdout",
     "text": "python\npython\n"
    }
   ],
   "source": [
    "x = 'python'\n",
    "print(x)\n",
    "\n",
    "\n",
    "def f():\n",
    "    print(x)\n",
    "\n",
    "f()\n",
    ""
   ]
  },
  {
   "cell_type": "code",
   "execution_count": 10,
   "metadata": {},
   "outputs": [
    {
     "output_type": "error",
     "ename": "UnboundLocalError",
     "evalue": "local variable 'x' referenced before assignment",
     "traceback": [
      "\u001b[1;31m---------------------------------------------------------------------------\u001b[0m",
      "\u001b[1;31mUnboundLocalError\u001b[0m                         Traceback (most recent call last)",
      "\u001b[1;32m<ipython-input-10-2178c5be357e>\u001b[0m in \u001b[0;36m<module>\u001b[1;34m\u001b[0m\n\u001b[0;32m      5\u001b[0m     \u001b[0mprint\u001b[0m\u001b[1;33m(\u001b[0m\u001b[0mx\u001b[0m\u001b[1;33m)\u001b[0m\u001b[1;33m\u001b[0m\u001b[1;33m\u001b[0m\u001b[0m\n\u001b[0;32m      6\u001b[0m \u001b[1;33m\u001b[0m\u001b[0m\n\u001b[1;32m----> 7\u001b[1;33m \u001b[0mf\u001b[0m\u001b[1;33m(\u001b[0m\u001b[1;33m)\u001b[0m\u001b[1;33m\u001b[0m\u001b[1;33m\u001b[0m\u001b[0m\n\u001b[0m",
      "\u001b[1;32m<ipython-input-10-2178c5be357e>\u001b[0m in \u001b[0;36mf\u001b[1;34m()\u001b[0m\n\u001b[0;32m      1\u001b[0m \u001b[0mx\u001b[0m \u001b[1;33m=\u001b[0m \u001b[1;34m'python'\u001b[0m\u001b[1;33m\u001b[0m\u001b[1;33m\u001b[0m\u001b[0m\n\u001b[0;32m      2\u001b[0m \u001b[1;32mdef\u001b[0m \u001b[0mf\u001b[0m\u001b[1;33m(\u001b[0m\u001b[1;33m)\u001b[0m\u001b[1;33m:\u001b[0m\u001b[1;33m\u001b[0m\u001b[1;33m\u001b[0m\u001b[0m\n\u001b[1;32m----> 3\u001b[1;33m     \u001b[0mprint\u001b[0m\u001b[1;33m(\u001b[0m\u001b[0mx\u001b[0m\u001b[1;33m)\u001b[0m\u001b[1;33m\u001b[0m\u001b[1;33m\u001b[0m\u001b[0m\n\u001b[0m\u001b[0;32m      4\u001b[0m     \u001b[0mx\u001b[0m \u001b[1;33m=\u001b[0m \u001b[1;34m'f_function'\u001b[0m\u001b[1;33m\u001b[0m\u001b[1;33m\u001b[0m\u001b[0m\n\u001b[0;32m      5\u001b[0m     \u001b[0mprint\u001b[0m\u001b[1;33m(\u001b[0m\u001b[0mx\u001b[0m\u001b[1;33m)\u001b[0m\u001b[1;33m\u001b[0m\u001b[1;33m\u001b[0m\u001b[0m\n",
      "\u001b[1;31mUnboundLocalError\u001b[0m: local variable 'x' referenced before assignment"
     ]
    }
   ],
   "source": [
    "x = 'python'\n",
    "def f():\n",
    "    print(x)\n",
    "    x = 'f_function'\n",
    "    print(x)\n",
    "\n",
    "f()"
   ]
  },
  {
   "cell_type": "code",
   "execution_count": 12,
   "metadata": {},
   "outputs": [
    {
     "output_type": "stream",
     "name": "stdout",
     "text": "python\nbook\n"
    }
   ],
   "source": [
    "x = 'python'\n",
    "\n",
    "def f():\n",
    "    global x\n",
    "    print(x)\n",
    "    x = 'book'\n",
    "    print(x)\n",
    "\n",
    "f()\n",
    ""
   ]
  },
  {
   "cell_type": "code",
   "execution_count": 13,
   "metadata": {},
   "outputs": [
    {
     "output_type": "execute_result",
     "data": {
      "text/plain": "{'__name__': '__main__',\n '__doc__': 'Automatically created module for IPython interactive environment',\n '__package__': None,\n '__loader__': None,\n '__spec__': None,\n '__builtin__': <module 'builtins' (built-in)>,\n '__builtins__': <module 'builtins' (built-in)>,\n '_ih': ['',\n  \"def f():\\n    value = 'f_function'\\n    print(value)\\n\\ndef g():\\n    value = 'g_function'\\n    print(value)\\n\\nf()\\ng()\",\n  \"def f():\\n    value = 'f_function'\\n    print(value)\\n\\ndef g():\\n    value = 'g_function'\\n    print(value)\\n\\nf()\\ng()\\n\\nprint(value)\",\n  '[value for value in range(3)]',\n  'print(value)',\n  'print(locals())',\n  \"def f():\\n    print(locals())\\n    value = 'book'\\n    print(locals())\\n\\nf()\",\n  \"def f(x):\\n    print(locals())\\n    value = 'book'\\n    print(locals())\\n\\nf()\",\n  \"def f(x):\\n    print(locals())\\n    value = 'book'\\n    print(locals())\\n\\nf('pyhon')\",\n  \"x = 'python'\\nprint(x)\\n\\n\\ndef f():\\n    print(x)\\n\\nf()\",\n  \"x = 'python'\\ndef f():\\n    print(x)\\n    x = 'f_function'\\n    print(x)\\n\\nf()\",\n  \"x = 'python'\\n\\ndef f():\\n    global x\\n    x = 'book'\",\n  \"x = 'python'\\n\\ndef f():\\n    global x\\n    print(x)\\n    x = 'book'\\n    print(x)\\n\\nf()\",\n  'globals()'],\n '_oh': {3: [0, 1, 2]},\n '_dh': ['C:\\\\Users\\\\Akihirok\\\\AppData\\\\Local\\\\Temp\\\\5cc41a87-b24b-49e2-abf9-09a48dec7f56',\n  'd:\\\\work\\\\python_practice\\\\python\\\\python3_practice\\\\7_module'],\n 'In': ['',\n  \"def f():\\n    value = 'f_function'\\n    print(value)\\n\\ndef g():\\n    value = 'g_function'\\n    print(value)\\n\\nf()\\ng()\",\n  \"def f():\\n    value = 'f_function'\\n    print(value)\\n\\ndef g():\\n    value = 'g_function'\\n    print(value)\\n\\nf()\\ng()\\n\\nprint(value)\",\n  '[value for value in range(3)]',\n  'print(value)',\n  'print(locals())',\n  \"def f():\\n    print(locals())\\n    value = 'book'\\n    print(locals())\\n\\nf()\",\n  \"def f(x):\\n    print(locals())\\n    value = 'book'\\n    print(locals())\\n\\nf()\",\n  \"def f(x):\\n    print(locals())\\n    value = 'book'\\n    print(locals())\\n\\nf('pyhon')\",\n  \"x = 'python'\\nprint(x)\\n\\n\\ndef f():\\n    print(x)\\n\\nf()\",\n  \"x = 'python'\\ndef f():\\n    print(x)\\n    x = 'f_function'\\n    print(x)\\n\\nf()\",\n  \"x = 'python'\\n\\ndef f():\\n    global x\\n    x = 'book'\",\n  \"x = 'python'\\n\\ndef f():\\n    global x\\n    print(x)\\n    x = 'book'\\n    print(x)\\n\\nf()\",\n  'globals()'],\n 'Out': {3: [0, 1, 2]},\n 'get_ipython': <bound method InteractiveShell.get_ipython of <ipykernel.zmqshell.ZMQInteractiveShell object at 0x0000023E14EE5910>>,\n 'exit': <IPython.core.autocall.ZMQExitAutocall at 0x23e14f20670>,\n 'quit': <IPython.core.autocall.ZMQExitAutocall at 0x23e14f20670>,\n '_': [0, 1, 2],\n '__': '',\n '___': '',\n 'os': <module 'os' from 'D:\\\\Users\\\\Akihirok\\\\AppData\\\\Local\\\\Programs\\\\Python\\\\Python38\\\\lib\\\\os.py'>,\n 'sys': <module 'sys' (built-in)>,\n '_i': \"x = 'python'\\n\\ndef f():\\n    global x\\n    print(x)\\n    x = 'book'\\n    print(x)\\n\\nf()\",\n '_ii': \"x = 'python'\\n\\ndef f():\\n    global x\\n    x = 'book'\",\n '_iii': \"x = 'python'\\ndef f():\\n    print(x)\\n    x = 'f_function'\\n    print(x)\\n\\nf()\",\n '_i1': \"def f():\\n    value = 'f_function'\\n    print(value)\\n\\ndef g():\\n    value = 'g_function'\\n    print(value)\\n\\nf()\\ng()\",\n 'f': <function __main__.f()>,\n 'g': <function __main__.g()>,\n '_i2': \"def f():\\n    value = 'f_function'\\n    print(value)\\n\\ndef g():\\n    value = 'g_function'\\n    print(value)\\n\\nf()\\ng()\\n\\nprint(value)\",\n '_i3': '[value for value in range(3)]',\n '_3': [0, 1, 2],\n '_i4': 'print(value)',\n '_i5': 'print(locals())',\n '_i6': \"def f():\\n    print(locals())\\n    value = 'book'\\n    print(locals())\\n\\nf()\",\n '_i7': \"def f(x):\\n    print(locals())\\n    value = 'book'\\n    print(locals())\\n\\nf()\",\n '_i8': \"def f(x):\\n    print(locals())\\n    value = 'book'\\n    print(locals())\\n\\nf('pyhon')\",\n '_i9': \"x = 'python'\\nprint(x)\\n\\n\\ndef f():\\n    print(x)\\n\\nf()\",\n 'x': 'book',\n '_i10': \"x = 'python'\\ndef f():\\n    print(x)\\n    x = 'f_function'\\n    print(x)\\n\\nf()\",\n '_i11': \"x = 'python'\\n\\ndef f():\\n    global x\\n    x = 'book'\",\n '_i12': \"x = 'python'\\n\\ndef f():\\n    global x\\n    print(x)\\n    x = 'book'\\n    print(x)\\n\\nf()\",\n '_i13': 'globals()'}"
     },
     "metadata": {},
     "execution_count": 13
    }
   ],
   "source": [
    "globals()"
   ]
  },
  {
   "cell_type": "code",
   "execution_count": 14,
   "metadata": {},
   "outputs": [
    {
     "output_type": "execute_result",
     "data": {
      "text/plain": "['ArithmeticError',\n 'AssertionError',\n 'AttributeError',\n 'BaseException',\n 'BlockingIOError',\n 'BrokenPipeError',\n 'BufferError',\n 'BytesWarning',\n 'ChildProcessError',\n 'ConnectionAbortedError',\n 'ConnectionError',\n 'ConnectionRefusedError',\n 'ConnectionResetError',\n 'DeprecationWarning',\n 'EOFError',\n 'Ellipsis',\n 'EnvironmentError',\n 'Exception',\n 'False',\n 'FileExistsError',\n 'FileNotFoundError',\n 'FloatingPointError',\n 'FutureWarning',\n 'GeneratorExit',\n 'IOError',\n 'ImportError',\n 'ImportWarning',\n 'IndentationError',\n 'IndexError',\n 'InterruptedError',\n 'IsADirectoryError',\n 'KeyError',\n 'KeyboardInterrupt',\n 'LookupError',\n 'MemoryError',\n 'ModuleNotFoundError',\n 'NameError',\n 'None',\n 'NotADirectoryError',\n 'NotImplemented',\n 'NotImplementedError',\n 'OSError',\n 'OverflowError',\n 'PendingDeprecationWarning',\n 'PermissionError',\n 'ProcessLookupError',\n 'RecursionError',\n 'ReferenceError',\n 'ResourceWarning',\n 'RuntimeError',\n 'RuntimeWarning',\n 'StopAsyncIteration',\n 'StopIteration',\n 'SyntaxError',\n 'SyntaxWarning',\n 'SystemError',\n 'SystemExit',\n 'TabError',\n 'TimeoutError',\n 'True',\n 'TypeError',\n 'UnboundLocalError',\n 'UnicodeDecodeError',\n 'UnicodeEncodeError',\n 'UnicodeError',\n 'UnicodeTranslateError',\n 'UnicodeWarning',\n 'UserWarning',\n 'ValueError',\n 'Warning',\n 'WindowsError',\n 'ZeroDivisionError',\n '__IPYTHON__',\n '__build_class__',\n '__debug__',\n '__doc__',\n '__import__',\n '__loader__',\n '__name__',\n '__package__',\n '__spec__',\n 'abs',\n 'all',\n 'any',\n 'ascii',\n 'bin',\n 'bool',\n 'breakpoint',\n 'bytearray',\n 'bytes',\n 'callable',\n 'chr',\n 'classmethod',\n 'compile',\n 'complex',\n 'copyright',\n 'credits',\n 'delattr',\n 'dict',\n 'dir',\n 'display',\n 'divmod',\n 'enumerate',\n 'eval',\n 'exec',\n 'filter',\n 'float',\n 'format',\n 'frozenset',\n 'get_ipython',\n 'getattr',\n 'globals',\n 'hasattr',\n 'hash',\n 'help',\n 'hex',\n 'id',\n 'input',\n 'int',\n 'isinstance',\n 'issubclass',\n 'iter',\n 'len',\n 'license',\n 'list',\n 'locals',\n 'map',\n 'max',\n 'memoryview',\n 'min',\n 'next',\n 'object',\n 'oct',\n 'open',\n 'ord',\n 'pow',\n 'print',\n 'property',\n 'range',\n 'repr',\n 'reversed',\n 'round',\n 'set',\n 'setattr',\n 'slice',\n 'sorted',\n 'staticmethod',\n 'str',\n 'sum',\n 'super',\n 'tuple',\n 'type',\n 'vars',\n 'zip']"
     },
     "metadata": {},
     "execution_count": 14
    }
   ],
   "source": [
    "dir(__builtins__)"
   ]
  },
  {
   "cell_type": "code",
   "execution_count": 15,
   "metadata": {},
   "outputs": [
    {
     "output_type": "execute_result",
     "data": {
      "text/plain": "<function __main__.counter.<locals>._increment()>"
     },
     "metadata": {},
     "execution_count": 15
    }
   ],
   "source": [
    "def counter():\n",
    "  count = 0\n",
    "\n",
    "  def _increment():\n",
    "    nonlocal count\n",
    "    count += 1\n",
    "    return count\n",
    "  return _increment\n",
    "\n",
    "counter1 = counter()\n",
    "counter1\n",
    ""
   ]
  },
  {
   "cell_type": "code",
   "execution_count": 16,
   "metadata": {},
   "outputs": [
    {
     "output_type": "execute_result",
     "data": {
      "text/plain": "1"
     },
     "metadata": {},
     "execution_count": 16
    }
   ],
   "source": [
    "counter1()"
   ]
  },
  {
   "cell_type": "code",
   "execution_count": 19,
   "metadata": {},
   "outputs": [
    {
     "output_type": "execute_result",
     "data": {
      "text/plain": "3"
     },
     "metadata": {},
     "execution_count": 19
    }
   ],
   "source": [
    "counter1()"
   ]
  },
  {
   "cell_type": "code",
   "execution_count": 20,
   "metadata": {},
   "outputs": [
    {
     "output_type": "execute_result",
     "data": {
      "text/plain": "1"
     },
     "metadata": {},
     "execution_count": 20
    }
   ],
   "source": [
    "counter2 = counter()\n",
    "counter2()"
   ]
  },
  {
   "cell_type": "code",
   "execution_count": null,
   "metadata": {},
   "outputs": [],
   "source": []
  }
 ]
}